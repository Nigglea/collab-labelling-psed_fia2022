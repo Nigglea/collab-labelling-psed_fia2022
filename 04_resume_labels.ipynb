{
 "cells": [
  {
   "cell_type": "markdown",
   "metadata": {},
   "source": [
    "# Resume of Labels"
   ]
  },
  {
   "cell_type": "code",
   "execution_count": null,
   "metadata": {},
   "outputs": [],
   "source": [
    "import torch\n",
    "import pandas as pd\n",
    "import numpy as np\n",
    "import os\n",
    "import yaml"
   ]
  },
  {
   "cell_type": "markdown",
   "metadata": {},
   "source": [
    "## Resume by filename"
   ]
  },
  {
   "cell_type": "code",
   "execution_count": null,
   "metadata": {},
   "outputs": [],
   "source": [
    "deep = \"class_3\"\n",
    "files = os.listdir(\"data/\"+ deep)\n",
    "taxonomy_path = \"taxonomy.yml\"\n",
    "print(len(files))"
   ]
  },
  {
   "cell_type": "code",
   "execution_count": null,
   "metadata": {},
   "outputs": [],
   "source": [
    "with open(taxonomy_path) as taxpath:\n",
    "    taxonomy = yaml.safe_load(taxpath)\n",
    "    taxo = taxonomy[deep]"
   ]
  },
  {
   "cell_type": "code",
   "execution_count": null,
   "metadata": {},
   "outputs": [],
   "source": [
    "df_dict = {\"filename\":[]}\n",
    "for t in taxo.keys():\n",
    "    df_dict[t] = []\n",
    "for f in files:\n",
    "    labels_f = torch.load(os.path.join(\"data\",deep , f))\n",
    "    sum_labels = np.sum(labels_f,axis=1)\n",
    "    df_dict[\"filename\"].append(f.split(\".\")[0])\n",
    "    for i,t in enumerate(taxo.keys()):\n",
    "        df_dict[t].append(int(sum_labels[i]))\n",
    "df = pd.DataFrame(df_dict)\n",
    "display(df)"
   ]
  },
  {
   "cell_type": "code",
   "execution_count": null,
   "metadata": {},
   "outputs": [],
   "source": [
    "df.to_csv(\"resume_\" + deep + \".csv\",index = False)"
   ]
  },
  {
   "cell_type": "markdown",
   "metadata": {},
   "source": [
    "## Resume by wetland"
   ]
  },
  {
   "cell_type": "code",
   "execution_count": null,
   "metadata": {},
   "outputs": [],
   "source": [
    "def num2meta(num,df):\n",
    "    df_n = df[(num>=df.Start) & (num<=df.End)]\n",
    "    day,month,year = df_n.Date.values[0].split(' de ')\n",
    "    wetland = df_n.Wetland.values[0]\n",
    "    if month == 'enero':\n",
    "        m = '01'\n",
    "    elif month == 'abril':\n",
    "        m = '04'\n",
    "    elif month == 'julio':\n",
    "        m = '07'\n",
    "    elif month == 'octubre':\n",
    "        m = '10'\n",
    "    return day,m,year,wetland"
   ]
  },
  {
   "cell_type": "code",
   "execution_count": null,
   "metadata": {},
   "outputs": [],
   "source": [
    "filenames = df.iloc[:,0].values\n",
    "numfiles = [int(fn.replace(\"audio\",\"\")) for fn in filenames]\n",
    "df_data = pd.read_csv(\"metadata.csv\")"
   ]
  },
  {
   "cell_type": "code",
   "execution_count": null,
   "metadata": {},
   "outputs": [],
   "source": [
    "day = []\n",
    "month = []\n",
    "year = []\n",
    "wetland= []\n",
    "\n",
    "for n in numfiles:\n",
    "    d,m,y,w = num2meta(n,df_data)\n",
    "    day.append(d)\n",
    "    month.append(m)\n",
    "    year.append(y)\n",
    "    wetland.append(w)\n",
    "df[\"day\"] = day\n",
    "df[\"month\"] = month \n",
    "df [\"year\"] = year\n",
    "df[\"wetland\"] = wetland  "
   ]
  },
  {
   "cell_type": "code",
   "execution_count": null,
   "metadata": {},
   "outputs": [],
   "source": [
    "df_wet = df.groupby([\"wetland\"]).sum()\n",
    "df_date = df.groupby([\"day\",\"month\",\"year\"]).sum()"
   ]
  },
  {
   "cell_type": "code",
   "execution_count": null,
   "metadata": {},
   "outputs": [],
   "source": [
    "df_wet"
   ]
  },
  {
   "cell_type": "code",
   "execution_count": null,
   "metadata": {},
   "outputs": [],
   "source": [
    "df_date"
   ]
  },
  {
   "cell_type": "code",
   "execution_count": null,
   "metadata": {},
   "outputs": [],
   "source": [
    "df_wet.to_csv(\"wet_resume_\" + deep + \".csv\",index   = True)\n",
    "df_date.to_csv(\"date_resume_\" + deep + \".csv\",index = True)"
   ]
  },
  {
   "cell_type": "code",
   "execution_count": null,
   "metadata": {},
   "outputs": [],
   "source": [
    "df_resume = df.drop(['filename','day','month','year','wetland'],axis=1)\n",
    "df_resume = df_resume.sum()"
   ]
  },
  {
   "cell_type": "code",
   "execution_count": null,
   "metadata": {},
   "outputs": [],
   "source": [
    "df_resume.to_csv('resume_'+deep+'.csv')"
   ]
  }
 ],
 "metadata": {
  "interpreter": {
   "hash": "c39ff8bfaa67a628fb3505ccf6f1bb9d0103aec67fdab930292f70e3a5131fa5"
  },
  "kernelspec": {
   "display_name": "fia",
   "language": "python",
   "name": "fia"
  },
  "language_info": {
   "codemirror_mode": {
    "name": "ipython",
    "version": 3
   },
   "file_extension": ".py",
   "mimetype": "text/x-python",
   "name": "python",
   "nbconvert_exporter": "python",
   "pygments_lexer": "ipython3",
   "version": "3.9.5"
  }
 },
 "nbformat": 4,
 "nbformat_minor": 2
}

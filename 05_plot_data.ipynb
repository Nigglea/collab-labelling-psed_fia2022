{
 "cells": [
  {
   "cell_type": "code",
   "execution_count": null,
   "id": "e0229b9c",
   "metadata": {},
   "outputs": [],
   "source": [
    "import pandas as pd\n",
    "import numpy as np\n",
    "import os\n",
    "import matplotlib.pyplot as plt\n",
    "import seaborn as sns\n",
    "sns.set_theme(style='whitegrid', palette = 'pastel')"
   ]
  },
  {
   "cell_type": "code",
   "execution_count": null,
   "id": "43177e6f",
   "metadata": {},
   "outputs": [],
   "source": [
    "def day2week(days):\n",
    "    n_weeks = int(len(dates)/5) if len(dates)%5==0 else int(len(dates)/5)+1\n",
    "    weeks = [[] for n in range(n_weeks)]\n",
    "    w = 0\n",
    "    for i,d in enumerate(days):\n",
    "        if i == 0 :\n",
    "            weeks[w].append(d)\n",
    "        else:\n",
    "            if d[1] == days[i-1][1] and d[2] == days[i-1][2]:\n",
    "                weeks[w].append(d)\n",
    "            else:\n",
    "                w+=1\n",
    "                weeks[w].append(d)\n",
    "    return weeks"
   ]
  },
  {
   "cell_type": "code",
   "execution_count": null,
   "id": "a2efc79c",
   "metadata": {},
   "outputs": [],
   "source": [
    "csv_path = 'date_resume_class_3.csv'\n",
    "df_date = pd.read_csv(csv_path)\n",
    "df_date.sort_values(by=['year','day'],inplace=True)"
   ]
  },
  {
   "cell_type": "code",
   "execution_count": null,
   "id": "33efe4ee",
   "metadata": {},
   "outputs": [],
   "source": [
    "dates = [df_date.iloc[i,:3].values for i in range(len(df_date))]\n",
    "labels = df_date.columns[3:].values"
   ]
  },
  {
   "cell_type": "code",
   "execution_count": null,
   "id": "471e337c",
   "metadata": {},
   "outputs": [],
   "source": [
    "fig_date, ax_date = plt.subplots(ncols=2, nrows=int((1+len(dates))/2), figsize=(12,15), sharey=True)\n",
    "for d in range(len(dates)):\n",
    "    if int(len(dates)/2)==1:\n",
    "        sns.barplot(y=labels, x=df_date.iloc[d,3:], palette = 'tab20', ax = ax_date[d])\n",
    "    else:\n",
    "        sns.barplot(y=labels, x=df_date.iloc[d,3:], palette = 'tab20', ax = ax_date[int((d)/2), int(d%2)])\n",
    "    ax_date[int((d)/2), int(d%2)].set_title(dates[d])\n",
    "    ax_date[int((d)/2), int(d%2)].set_xlabel(None)\n",
    "ax_date[int((d)/2), int(d%2)].set_xlabel('amount of frames')"
   ]
  },
  {
   "cell_type": "code",
   "execution_count": null,
   "id": "d1000a16",
   "metadata": {},
   "outputs": [],
   "source": [
    "axs = int(len(dates)/5) if len(dates)%5==0 else int(len(dates)/5)+1\n",
    "fig2_date, ax2_date = plt.subplots(ncols=axs, nrows=1, figsize=(14,7), sharey=True)\n",
    "weeks = day2week(dates)\n",
    "for a in range(axs):\n",
    "    for j,d in enumerate(weeks[a]): \n",
    "        sns.barplot(y=labels, x=df_date.iloc[a+j,3:], palette = 'tab20', ax = ax2_date[a])\n",
    "        ax2_date[a].set_xlabel('amount of frames')\n",
    "        ax2_date[a].set_title('week of' +str(d).replace('[','').replace(']',''))\n",
    "        ax2_date[a].ticklabel_format(axis=\"x\", style=\"sci\", scilimits=(0,0))\n",
    "    "
   ]
  },
  {
   "cell_type": "code",
   "execution_count": null,
   "id": "a4c78add",
   "metadata": {},
   "outputs": [],
   "source": [
    "# por humedal\n",
    "wet_csv_path = 'wet_resume_class_3.csv'\n",
    "df_wet = pd.read_csv(wet_csv_path)\n",
    "display(df_wet)"
   ]
  },
  {
   "cell_type": "code",
   "execution_count": null,
   "id": "511bdfc3",
   "metadata": {},
   "outputs": [],
   "source": [
    "wet    = [df_wet.iloc[i,0] for i in range(len(df_wet))]\n",
    "labels = df_wet.columns[1:].values"
   ]
  },
  {
   "cell_type": "code",
   "execution_count": null,
   "id": "3c0ecddd",
   "metadata": {},
   "outputs": [],
   "source": [
    "fig_wet, ax_wet = plt.subplots(ncols=3, nrows=1, figsize=(15,7), sharey=True)\n",
    "c_wet = ['b','g','m']\n",
    "for d in range(len(wet)):\n",
    "    sns.barplot(y=labels, x=df_wet.iloc[d,1:], color = c_wet[d], ax = ax_wet[d])\n",
    "    ax_wet[d].set_title(wet[d])\n",
    "    ax_wet[d].set_xlabel(None)\n",
    "    ax_wet[d].ticklabel_format(axis=\"x\", style=\"sci\", scilimits=(0,0))\n",
    "    ax_wet[d].set_xlabel('amount of frames')"
   ]
  },
  {
   "cell_type": "code",
   "execution_count": null,
   "id": "c33be34a",
   "metadata": {},
   "outputs": [],
   "source": [
    "resume_csv_path = 'resume_class_3.csv'\n",
    "df_resume = pd.read_csv(resume_csv_path)"
   ]
  },
  {
   "cell_type": "code",
   "execution_count": null,
   "id": "96f2e20d",
   "metadata": {},
   "outputs": [],
   "source": [
    "fig_resume, ax_resume = plt.subplots(figsize=(7,5))\n",
    "\n",
    "sns.barplot(y=df_resume['Class'],x=df_resume['Amount'], color = 'g', ax = ax_resume)\n",
    "ax_resume.set_ylabel('Class')\n",
    "ax_resume.set_xlabel('Amount of frames')\n",
    "ax_resume.set_title('Amount of labels')\n",
    "plt.ticklabel_format(axis=\"x\", style=\"sci\", scilimits=(0,0))"
   ]
  },
  {
   "cell_type": "code",
   "execution_count": null,
   "id": "4dada6b1",
   "metadata": {},
   "outputs": [],
   "source": []
  }
 ],
 "metadata": {
  "kernelspec": {
   "display_name": "fia",
   "language": "python",
   "name": "fia"
  },
  "language_info": {
   "codemirror_mode": {
    "name": "ipython",
    "version": 3
   },
   "file_extension": ".py",
   "mimetype": "text/x-python",
   "name": "python",
   "nbconvert_exporter": "python",
   "pygments_lexer": "ipython3",
   "version": "3.9.5"
  }
 },
 "nbformat": 4,
 "nbformat_minor": 5
}

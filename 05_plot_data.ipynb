{
 "cells": [
  {
   "cell_type": "code",
   "execution_count": null,
   "id": "e0229b9c",
   "metadata": {},
   "outputs": [],
   "source": [
    "import pandas as pd\n",
    "import numpy as np\n",
    "import os\n",
    "import matplotlib.pyplot as plt\n",
    "import seaborn as sns\n",
    "sns.set_theme(style='whitegrid', palette = 'pastel')"
   ]
  },
  {
   "cell_type": "code",
   "execution_count": null,
   "id": "43177e6f",
   "metadata": {},
   "outputs": [],
   "source": [
    "def day2week(days):\n",
    "    n_weeks = int(len(dates)/5) if len(dates)%5==0 else int(len(dates)/5)+1\n",
    "    weeks = [[] for n in range(n_weeks)]\n",
    "    w = 0\n",
    "    for i,d in enumerate(days):\n",
    "        if i == 0 :\n",
    "            weeks[w].append(d)\n",
    "        else:\n",
    "            if d[1] == days[i-1][1] and d[2] == days[i-1][2]:\n",
    "                weeks[w].append(d)\n",
    "            else:\n",
    "                w+=1\n",
    "                weeks[w].append(d)\n",
    "    return weeks\n",
    "\n",
    "def day_mean(df,week):\n",
    "    \n",
    "    day_week = {'monday':[],'tuesday':[],'wednesday':[],'thursday':[],'friday':[]}\n",
    "    c=0\n",
    "    for i,w in enumerate(week):\n",
    "        for j,d in enumerate(w):\n",
    "            if j ==0:\n",
    "                day_week['monday'].append(df.iloc[c,3:].values)\n",
    "            if j ==1:\n",
    "                day_week['tuesday'].append(df.iloc[c,3:].values)\n",
    "            if j ==2:\n",
    "                day_week['wednesday'].append(df.iloc[c,3:].values)\n",
    "            if j ==3:\n",
    "                day_week['thursday'].append(df.iloc[c,3:].values)\n",
    "            if j ==4:\n",
    "                day_week['friday'].append(df.iloc[c,3:].values)\n",
    "            c+=1\n",
    "    days_mean = []\n",
    "    for k in list(day_week):\n",
    "        days_mean.append(np.mean(day_week[k],axis=0))\n",
    "    return days_mean"
   ]
  },
  {
   "cell_type": "code",
   "execution_count": null,
   "id": "a2efc79c",
   "metadata": {},
   "outputs": [],
   "source": [
    "deep = 'class_1'\n",
    "csv_path = 'date_resume_'+deep+'.csv'\n",
    "df_date = pd.read_csv(csv_path)\n",
    "df_date.sort_values(by=['year','day'],inplace=True)"
   ]
  },
  {
   "cell_type": "code",
   "execution_count": null,
   "id": "33efe4ee",
   "metadata": {},
   "outputs": [],
   "source": [
    "dates = [df_date.iloc[i,:3].values for i in range(len(df_date))]\n",
    "labels = df_date.columns[3:].values"
   ]
  },
  {
   "cell_type": "code",
   "execution_count": null,
   "id": "471e337c",
   "metadata": {},
   "outputs": [],
   "source": [
    "fig_date, ax_date = plt.subplots(ncols=2, nrows=int((1+len(dates))/2), figsize=(12,15), sharey=True)\n",
    "for d in range(len(dates)):\n",
    "    if int(len(dates)/2)==1:\n",
    "        sns.barplot(y=labels, x=df_date.iloc[d,3:], palette = 'tab20', ax = ax_date[d])\n",
    "    else:\n",
    "        sns.barplot(y=labels, x=df_date.iloc[d,3:], palette = 'tab20', ax = ax_date[int((d)/2), int(d%2)])\n",
    "    ax_date[int((d)/2), int(d%2)].set_title(dates[d])\n",
    "    ax_date[int((d)/2), int(d%2)].set_xlabel(None)\n",
    "ax_date[int((d)/2), int(d%2)].set_xlabel('amount of frames')"
   ]
  },
  {
   "cell_type": "code",
   "execution_count": null,
   "id": "d1000a16",
   "metadata": {},
   "outputs": [],
   "source": [
    "axs = int(len(dates)/5) if len(dates)%5==0 else int(len(dates)/5)+1\n",
    "fig2_date, ax2_date = plt.subplots(ncols=axs, nrows=1, figsize=(14,7), sharey=True)\n",
    "weeks = day2week(dates)\n",
    "for a in range(axs):\n",
    "    for j,d in enumerate(weeks[a]): \n",
    "        sns.barplot(y=labels, x=df_date.iloc[a+j,3:], palette = 'tab20', ax = ax2_date[a])\n",
    "        ax2_date[a].set_xlabel('amount of frames')\n",
    "        ax2_date[a].set_title('week of' +str(d).replace('[','').replace(']',''))\n",
    "        ax2_date[a].ticklabel_format(axis=\"x\", style=\"sci\", scilimits=(0,0))\n",
    "    "
   ]
  },
  {
   "cell_type": "code",
   "execution_count": null,
   "id": "9be9bd3a",
   "metadata": {
    "scrolled": true
   },
   "outputs": [],
   "source": [
    "ddays_mean = day_mean(df_date,weeks)\n",
    "days = ['monday','tuesday','wednesday','thursday','friday']"
   ]
  },
  {
   "cell_type": "code",
   "execution_count": null,
   "id": "93b2e7f4",
   "metadata": {},
   "outputs": [],
   "source": [
    "fig_day, ax_day = plt.subplots(nrows=len(days),ncols=1,figsize=(9,20),sharex=True)\n",
    "for i,d in enumerate(days):\n",
    "    sns.barplot(y=labels, x=ddays_mean[i],color='c', ax = ax_day[i],log=True)\n",
    "    ax_day[i].set_title(d)\n",
    "    ax_day[i].set_xticks([1e3,1e4, 1e5])\n",
    "    ax_day[i].set_xticklabels(['1e3','1e4', '1e5'])\n",
    "ax_day[i].set_xlabel('average amount of frames')\n",
    "fig_day.savefig('days_of_the_week_'+deep+'.pdf')"
   ]
  },
  {
   "cell_type": "code",
   "execution_count": null,
   "id": "a4c78add",
   "metadata": {},
   "outputs": [],
   "source": [
    "# por humedal\n",
    "wet_csv_path = 'wet_resume_'+deep+'.csv'\n",
    "df_wet = pd.read_csv(wet_csv_path)\n",
    "display(df_wet)"
   ]
  },
  {
   "cell_type": "code",
   "execution_count": null,
   "id": "511bdfc3",
   "metadata": {},
   "outputs": [],
   "source": [
    "wet    = [df_wet.iloc[i,0] for i in range(len(df_wet))]\n",
    "labels = df_wet.columns[1:].values"
   ]
  },
  {
   "cell_type": "code",
   "execution_count": null,
   "id": "3c0ecddd",
   "metadata": {},
   "outputs": [],
   "source": [
    "fig_wet, ax_wet = plt.subplots(ncols=3, nrows=1, figsize=(15,7), sharey=True)\n",
    "c_wet = ['b','r','m']\n",
    "for d in range(len(wet)):\n",
    "    sns.barplot(y=labels, x=df_wet.iloc[d,1:], color = c_wet[d], ax = ax_wet[d],log=True)\n",
    "    ax_wet[d].set_title(wet[d])\n",
    "    ax_wet[d].set_xlabel(None)\n",
    "    ax_wet[d].set_xlabel('amount of frames')\n",
    "    ax_wet[d].set_xticks([1e4,1e5, 1e6])\n",
    "    ax_wet[d].set_xticklabels(['1e4','1e5', '1e6'])\n",
    "fig_wet.savefig('resume_wetlands_'+deep+'.pdf')"
   ]
  },
  {
   "cell_type": "code",
   "execution_count": null,
   "id": "c33be34a",
   "metadata": {},
   "outputs": [],
   "source": [
    "resume_csv_path = 'resume_'+deep+'.csv'\n",
    "df_resume = pd.read_csv(resume_csv_path)"
   ]
  },
  {
   "cell_type": "code",
   "execution_count": null,
   "id": "96f2e20d",
   "metadata": {},
   "outputs": [],
   "source": [
    "fig_resume, ax_resume = plt.subplots(figsize=(7,5))\n",
    "\n",
    "sns.barplot(y=df_resume['Class'],x=df_resume['Amount'], color = 'g', ax = ax_resume,log=True)\n",
    "ax_resume.set_ylabel('Class')\n",
    "ax_resume.set_xlabel('Amount of frames')\n",
    "ax_resume.set_title('Amount of labels')\n",
    "ax_resume.set_xticks([1e3,1e4,1e5, 1e6, 1e7])\n",
    "ax_resume.set_xticklabels(['1e3','1e4','1e5', '1e6', '1e7'])\n",
    "fig_resume.savefig('resume_'+deep+'.pdf')"
   ]
  },
  {
   "cell_type": "code",
   "execution_count": null,
   "id": "4dada6b1",
   "metadata": {},
   "outputs": [],
   "source": []
  }
 ],
 "metadata": {
  "kernelspec": {
   "display_name": "fia",
   "language": "python",
   "name": "fia"
  },
  "language_info": {
   "codemirror_mode": {
    "name": "ipython",
    "version": 3
   },
   "file_extension": ".py",
   "mimetype": "text/x-python",
   "name": "python",
   "nbconvert_exporter": "python",
   "pygments_lexer": "ipython3",
   "version": "3.9.5"
  }
 },
 "nbformat": 4,
 "nbformat_minor": 5
}

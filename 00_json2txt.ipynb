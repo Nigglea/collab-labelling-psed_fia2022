{
 "cells": [
  {
   "cell_type": "markdown",
   "metadata": {},
   "source": [
    "# Conversion txt a json"
   ]
  },
  {
   "cell_type": "code",
   "execution_count": null,
   "metadata": {},
   "outputs": [],
   "source": [
    "import pandas as pd\n",
    "import json\n",
    "import numpy as np\n",
    "import os"
   ]
  },
  {
   "cell_type": "code",
   "execution_count": null,
   "metadata": {
    "scrolled": true
   },
   "outputs": [],
   "source": [
    "path = \"labels_json/\" #output of label-studio\n",
    "labels = os.listdir(path)[0]\n",
    "with open(os.path.join(path,labels)) as f:\n",
    "  data = json.load(f)\n",
    "\n",
    "print(len(data),\"dictionaries\")\n",
    "print(data[0].keys())"
   ]
  },
  {
   "cell_type": "code",
   "execution_count": null,
   "metadata": {
    "scrolled": false
   },
   "outputs": [],
   "source": [
    "lista = []\n",
    "for i in range(len(data)):\n",
    "    \n",
    "    anotaciones = data[i]['annotations']\n",
    "    resultados =  anotaciones[0]['result']\n",
    "    \n",
    "    filenames = []\n",
    "    inicios = []\n",
    "    terminos = []\n",
    "    clases = []\n",
    "\n",
    "    for t in range(len(resultados)):\n",
    "        \n",
    "        filename1 = data[i]['data']\n",
    "        filename2 = filename1['audio']\n",
    "        basura,filename3 = filename2.split(\"-\")\n",
    "        \n",
    "        etiqueta = resultados[t]\n",
    "    \n",
    "        valores = etiqueta['value']\n",
    "        inicio = valores['start']\n",
    "        termino = valores['end']\n",
    "        clase = valores['labels'][0]\n",
    "    \n",
    "        filenames.append(filename3)\n",
    "        inicios.append(inicio)\n",
    "        terminos.append(termino)\n",
    "        clases.append(clase)\n",
    "        \n",
    "        if i==0:\n",
    "            groundtruth = np.hstack((np.vstack(filenames),np.vstack(inicios),np.vstack(terminos),np.vstack(clases)))\n",
    "        else:\n",
    "            groundtruth_i = np.hstack((np.vstack(filenames),np.vstack(inicios),np.vstack(terminos),np.vstack(clases)))\n",
    "            groundtruth = np.vstack((groundtruth,groundtruth_i))\n",
    "    print((i+1),'/',len(data), end='\\r')\n",
    "columnas=(\"Filename\",\"Inicio\",\"Termino\",\"Class\")\n",
    "print('saving....',end='\\r')\n",
    "df_groundtruth = pd.DataFrame(groundtruth,columns = columnas)\n",
    "        \n",
    "        \n",
    "path2 = os.path.join(\"labels_txt\",labels.replace(\".json\",\"\")+\".txt\")\n",
    "df_groundtruth.drop_duplicates(inplace=True)\n",
    "df_groundtruth.to_csv (path2 , index = False, sep = \" \")\n",
    "print('Done.',end='\\r')"
   ]
  },
  {
   "cell_type": "markdown",
   "metadata": {},
   "source": [
    "$$\n",
    "\\mathscr{The}\\,\\,\\,\\mathscr{End}\n",
    "$$"
   ]
  }
 ],
 "metadata": {
  "kernelspec": {
   "display_name": "fia",
   "language": "python",
   "name": "fia"
  },
  "language_info": {
   "codemirror_mode": {
    "name": "ipython",
    "version": 3
   },
   "file_extension": ".py",
   "mimetype": "text/x-python",
   "name": "python",
   "nbconvert_exporter": "python",
   "pygments_lexer": "ipython3",
   "version": "3.9.5"
  }
 },
 "nbformat": 4,
 "nbformat_minor": 4
}

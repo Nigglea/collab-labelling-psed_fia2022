{
 "cells": [
  {
   "cell_type": "markdown",
   "metadata": {},
   "source": [
    "# Conversion txt a json"
   ]
  },
  {
   "cell_type": "code",
   "execution_count": 1,
   "metadata": {},
   "outputs": [],
   "source": [
    "import pandas as pd\n",
    "import json\n",
    "import numpy as np"
   ]
  },
  {
   "cell_type": "code",
   "execution_count": 2,
   "metadata": {
    "scrolled": true
   },
   "outputs": [
    {
     "name": "stdout",
     "output_type": "stream",
     "text": [
      "300 dictionaries\n",
      "dict_keys(['id', 'annotations', 'file_upload', 'drafts', 'predictions', 'data', 'meta', 'created_at', 'updated_at', 'project'])\n"
     ]
    }
   ],
   "source": [
    "path = \"jak.json\" #output of label-studio\n",
    "with open(path) as f:\n",
    "  data = json.load(f)\n",
    "\n",
    "print(len(data),\"dictionaries\")\n",
    "print(data[0].keys())"
   ]
  },
  {
   "cell_type": "code",
   "execution_count": 3,
   "metadata": {
    "scrolled": false
   },
   "outputs": [
    {
     "name": "stdout",
     "output_type": "stream",
     "text": [
      "saving....\n",
      "Done.\n"
     ]
    }
   ],
   "source": [
    "lista = []\n",
    "for i in range(len(data)):\n",
    "    \n",
    "    anotaciones = data[i]['annotations']\n",
    "    resultados =  anotaciones[0]['result']\n",
    "    \n",
    "    filenames = []\n",
    "    inicios = []\n",
    "    terminos = []\n",
    "    clases = []\n",
    "\n",
    "    for t in range(len(resultados)):\n",
    "        \n",
    "        filename1 = data[i]['data']\n",
    "        filename2 = filename1['audio']\n",
    "        basura,filename3 = filename2.split(\"-\")\n",
    "        \n",
    "        etiqueta = resultados[t]\n",
    "    \n",
    "        valores = etiqueta['value']\n",
    "        inicio = valores['start']\n",
    "        termino = valores['end']\n",
    "        clase = valores['labels'][0]\n",
    "    \n",
    "        filenames.append(filename3)\n",
    "        inicios.append(inicio)\n",
    "        terminos.append(termino)\n",
    "        clases.append(clase)\n",
    "        \n",
    "        if i==0:\n",
    "            groundtruth = np.hstack((np.vstack(filenames),np.vstack(inicios),np.vstack(terminos),np.vstack(clases)))\n",
    "        else:\n",
    "            groundtruth_i = np.hstack((np.vstack(filenames),np.vstack(inicios),np.vstack(terminos),np.vstack(clases)))\n",
    "            groundtruth = np.vstack((groundtruth,groundtruth_i))\n",
    "    print((i+1),'/',len(data), end='\\r')\n",
    "columnas=(\"Filename\",\"Inicio\",\"Termino\",\"Clase\")\n",
    "print('saving....',end='\\r')\n",
    "df_groundtruth = pd.DataFrame(groundtruth,columns = columnas)\n",
    "        \n",
    "        \n",
    "path2 = \"output_jak.txt\"\n",
    "df_groundtruth.to_csv (path2 , index = False, sep = \" \")\n",
    "print('Done.')"
   ]
  },
  {
   "cell_type": "code",
   "execution_count": 4,
   "metadata": {
    "scrolled": false
   },
   "outputs": [
    {
     "data": {
      "text/html": [
       "<div>\n",
       "<style scoped>\n",
       "    .dataframe tbody tr th:only-of-type {\n",
       "        vertical-align: middle;\n",
       "    }\n",
       "\n",
       "    .dataframe tbody tr th {\n",
       "        vertical-align: top;\n",
       "    }\n",
       "\n",
       "    .dataframe thead th {\n",
       "        text-align: right;\n",
       "    }\n",
       "</style>\n",
       "<table border=\"1\" class=\"dataframe\">\n",
       "  <thead>\n",
       "    <tr style=\"text-align: right;\">\n",
       "      <th></th>\n",
       "      <th>Filename</th>\n",
       "      <th>Inicio</th>\n",
       "      <th>Termino</th>\n",
       "      <th>Clase</th>\n",
       "    </tr>\n",
       "  </thead>\n",
       "  <tbody>\n",
       "    <tr>\n",
       "      <th>0</th>\n",
       "      <td>audio1500.wav</td>\n",
       "      <td>-2.8199664825478976e-14</td>\n",
       "      <td>299.996</td>\n",
       "      <td>viento_intensidad_media_grave</td>\n",
       "    </tr>\n",
       "    <tr>\n",
       "      <th>1</th>\n",
       "      <td>audio1500.wav</td>\n",
       "      <td>0.31678563885952804</td>\n",
       "      <td>299.996</td>\n",
       "      <td>lluvia_intensidad_media</td>\n",
       "    </tr>\n",
       "    <tr>\n",
       "      <th>2</th>\n",
       "      <td>audio1500.wav</td>\n",
       "      <td>-0.9503569165786976</td>\n",
       "      <td>299.9959999999999</td>\n",
       "      <td>otras_aves</td>\n",
       "    </tr>\n",
       "    <tr>\n",
       "      <th>3</th>\n",
       "      <td>audio1500.wav</td>\n",
       "      <td>10.453926082365363</td>\n",
       "      <td>21.858209081309397</td>\n",
       "      <td>queltehue</td>\n",
       "    </tr>\n",
       "    <tr>\n",
       "      <th>4</th>\n",
       "      <td>audio1500.wav</td>\n",
       "      <td>19.99973333333333</td>\n",
       "      <td>23.29968933333333</td>\n",
       "      <td>perro</td>\n",
       "    </tr>\n",
       "    <tr>\n",
       "      <th>...</th>\n",
       "      <td>...</td>\n",
       "      <td>...</td>\n",
       "      <td>...</td>\n",
       "      <td>...</td>\n",
       "    </tr>\n",
       "    <tr>\n",
       "      <th>809689</th>\n",
       "      <td>audio1209.wav</td>\n",
       "      <td>175.13766724137366</td>\n",
       "      <td>176.41765505745443</td>\n",
       "      <td>otras_aves</td>\n",
       "    </tr>\n",
       "    <tr>\n",
       "      <th>809690</th>\n",
       "      <td>audio1209.wav</td>\n",
       "      <td>172.07771048274736</td>\n",
       "      <td>288.43615657470696</td>\n",
       "      <td>motor_fuente_movil</td>\n",
       "    </tr>\n",
       "    <tr>\n",
       "      <th>809691</th>\n",
       "      <td>audio1209.wav</td>\n",
       "      <td>248.79668266666667</td>\n",
       "      <td>251.3766531494141</td>\n",
       "      <td>perro</td>\n",
       "    </tr>\n",
       "    <tr>\n",
       "      <th>809692</th>\n",
       "      <td>audio1209.wav</td>\n",
       "      <td>259.37654648274736</td>\n",
       "      <td>260.97652514941404</td>\n",
       "      <td>perro</td>\n",
       "    </tr>\n",
       "    <tr>\n",
       "      <th>809693</th>\n",
       "      <td>audio1209.wav</td>\n",
       "      <td>218.67708914941403</td>\n",
       "      <td>299.97600514941405</td>\n",
       "      <td>lluvia_intensidad_fuerte_torrencial</td>\n",
       "    </tr>\n",
       "  </tbody>\n",
       "</table>\n",
       "<p>809694 rows × 4 columns</p>\n",
       "</div>"
      ],
      "text/plain": [
       "             Filename                   Inicio             Termino  \\\n",
       "0       audio1500.wav  -2.8199664825478976e-14             299.996   \n",
       "1       audio1500.wav      0.31678563885952804             299.996   \n",
       "2       audio1500.wav      -0.9503569165786976   299.9959999999999   \n",
       "3       audio1500.wav       10.453926082365363  21.858209081309397   \n",
       "4       audio1500.wav        19.99973333333333   23.29968933333333   \n",
       "...               ...                      ...                 ...   \n",
       "809689  audio1209.wav       175.13766724137366  176.41765505745443   \n",
       "809690  audio1209.wav       172.07771048274736  288.43615657470696   \n",
       "809691  audio1209.wav       248.79668266666667   251.3766531494141   \n",
       "809692  audio1209.wav       259.37654648274736  260.97652514941404   \n",
       "809693  audio1209.wav       218.67708914941403  299.97600514941405   \n",
       "\n",
       "                                      Clase  \n",
       "0             viento_intensidad_media_grave  \n",
       "1                   lluvia_intensidad_media  \n",
       "2                                otras_aves  \n",
       "3                                 queltehue  \n",
       "4                                     perro  \n",
       "...                                     ...  \n",
       "809689                           otras_aves  \n",
       "809690                   motor_fuente_movil  \n",
       "809691                                perro  \n",
       "809692                                perro  \n",
       "809693  lluvia_intensidad_fuerte_torrencial  \n",
       "\n",
       "[809694 rows x 4 columns]"
      ]
     },
     "execution_count": 4,
     "metadata": {},
     "output_type": "execute_result"
    }
   ],
   "source": [
    "df_groundtruth"
   ]
  },
  {
   "cell_type": "markdown",
   "metadata": {},
   "source": [
    "$$\n",
    "\\mathscr{The}\\,\\,\\,\\mathscr{End}\n",
    "$$"
   ]
  }
 ],
 "metadata": {
  "kernelspec": {
   "display_name": "Python 3 (ipykernel)",
   "language": "python",
   "name": "python3"
  },
  "language_info": {
   "codemirror_mode": {
    "name": "ipython",
    "version": 3
   },
   "file_extension": ".py",
   "mimetype": "text/x-python",
   "name": "python",
   "nbconvert_exporter": "python",
   "pygments_lexer": "ipython3",
   "version": "3.10.4"
  }
 },
 "nbformat": 4,
 "nbformat_minor": 4
}

{
 "cells": [
  {
   "cell_type": "markdown",
   "id": "92c08cfa",
   "metadata": {},
   "source": [
    "# Decode data\n",
    "\n",
    "Pass from key name to metadata of each audio file"
   ]
  },
  {
   "cell_type": "code",
   "execution_count": null,
   "id": "30485dec",
   "metadata": {},
   "outputs": [],
   "source": [
    "import pandas as pd\n",
    "import numpy as np"
   ]
  },
  {
   "cell_type": "code",
   "execution_count": null,
   "id": "f94e57d4",
   "metadata": {},
   "outputs": [],
   "source": [
    "def file2num(file):\n",
    "    name,tail = file.split('.')\n",
    "    num = int(name.replace('audio',''))\n",
    "    return num\n",
    "\n",
    "def num2hour(num):\n",
    "    h = int((num-1)%24)\n",
    "    if h < 10:\n",
    "        hour = '0'+str(h)+':00'\n",
    "    else:\n",
    "        hour = str(h)+':00'\n",
    "    return hour\n",
    "\n",
    "def num2meta(num,df):\n",
    "    df_n = df[(num>=df.Start) & (num<=df.End)]\n",
    "    day,month,year = df_n.Date.values[0].split(' de ')\n",
    "    wetland = df_n.Wetland.values[0]\n",
    "    if month == 'enero':\n",
    "        m = '01'\n",
    "    elif month == 'abril':\n",
    "        m = '04'\n",
    "    elif month == 'julio':\n",
    "        m = '07'\n",
    "    elif month == 'octubre':\n",
    "        m = '10'\n",
    "    return day,m,year,wetland\n",
    "    "
   ]
  },
  {
   "cell_type": "code",
   "execution_count": null,
   "id": "534ab913",
   "metadata": {},
   "outputs": [],
   "source": [
    "df_metadata = pd.read_csv(\"metadata.csv\",sep=',')\n",
    "df_metadata"
   ]
  },
  {
   "cell_type": "code",
   "execution_count": null,
   "id": "f5dabd7a",
   "metadata": {},
   "outputs": [],
   "source": [
    "df_label = pd.read_csv(\"output_jak.txt\", sep = ' ')\n",
    "df_label"
   ]
  },
  {
   "cell_type": "code",
   "execution_count": null,
   "id": "7f09963a",
   "metadata": {},
   "outputs": [],
   "source": [
    "df_label.iloc[804232:,:]"
   ]
  },
  {
   "cell_type": "code",
   "execution_count": null,
   "id": "4d5bb364",
   "metadata": {},
   "outputs": [],
   "source": [
    "nums = [file2num(file) for file in df_label.Filename.values]\n",
    "hours = [num2hour(num) for num in nums]\n",
    "df_meta = df_label\n",
    "df_meta['Hours'] = hours\n",
    "df_meta['Start'] = np.around(np.maximum(df_label.Inicio.values,0),3)\n",
    "df_meta['End'] = np.around(np.minimum(df_label.Termino.values,300),3)\n",
    "display(df_meta)"
   ]
  },
  {
   "cell_type": "code",
   "execution_count": null,
   "id": "55e6eed9",
   "metadata": {},
   "outputs": [],
   "source": [
    "metadict = {'Day':[],'Month':[],'Year':[],'Wetland':[]}\n",
    "for i,n in enumerate(nums):\n",
    "    dn,mn,yn,wn = num2meta(n,df_metadata)\n",
    "    metadict['Day'].append(dn)\n",
    "    metadict['Month'].append(mn)\n",
    "    metadict['Year'].append(yn)\n",
    "    metadict['Wetland'].append(wn)\n",
    "    print((i/len(nums)*100),end='\\r')\n",
    "\n",
    "df_meta['Day'] = metadict['Day']\n",
    "df_meta['Month'] = metadict['Month']\n",
    "df_meta['Year'] = metadict['Year']\n",
    "df_meta['Wetland'] = metadict['Wetland']"
   ]
  },
  {
   "cell_type": "code",
   "execution_count": null,
   "id": "6b27d520",
   "metadata": {},
   "outputs": [],
   "source": [
    "new_order_cols = ['Filename','Wetland','Day','Month','Year','Hours','Start','End','Clase']\n",
    "\n",
    "df_meta = df_meta[new_order_cols]\n",
    "df_meta"
   ]
  },
  {
   "cell_type": "code",
   "execution_count": null,
   "id": "4cd7850e",
   "metadata": {},
   "outputs": [],
   "source": [
    "df_meta.to_csv('metadata_jak.csv',index=False)"
   ]
  },
  {
   "cell_type": "code",
   "execution_count": null,
   "id": "e71f74ac",
   "metadata": {},
   "outputs": [],
   "source": []
  }
 ],
 "metadata": {
  "kernelspec": {
   "display_name": "fia",
   "language": "python",
   "name": "fia"
  },
  "language_info": {
   "codemirror_mode": {
    "name": "ipython",
    "version": 3
   },
   "file_extension": ".py",
   "mimetype": "text/x-python",
   "name": "python",
   "nbconvert_exporter": "python",
   "pygments_lexer": "ipython3",
   "version": "3.9.5"
  }
 },
 "nbformat": 4,
 "nbformat_minor": 5
}

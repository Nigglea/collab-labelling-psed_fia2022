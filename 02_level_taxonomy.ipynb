{
 "cells": [
  {
   "cell_type": "code",
   "execution_count": null,
   "id": "a53a6386",
   "metadata": {},
   "outputs": [],
   "source": [
    "import pandas as pd\n",
    "import yaml"
   ]
  },
  {
   "cell_type": "code",
   "execution_count": null,
   "id": "ffb369c5",
   "metadata": {},
   "outputs": [],
   "source": [
    "with open('taxonomy.yml') as stream: \n",
    "    yaml_dicts = yaml.safe_load(stream)"
   ]
  },
  {
   "cell_type": "code",
   "execution_count": null,
   "id": "b6a5e349",
   "metadata": {},
   "outputs": [],
   "source": [
    "filename = 'metadata_labels.csv'\n",
    "df_label = pd.read_csv(filename)"
   ]
  },
  {
   "cell_type": "code",
   "execution_count": null,
   "id": "4d8f65a2",
   "metadata": {},
   "outputs": [],
   "source": [
    "taxonomy = yaml_dicts['class_3']\n",
    "taxonomy_inv = yaml_dicts['taxonomy_inv']\n",
    "es2en = yaml_dicts['es2en']"
   ]
  },
  {
   "cell_type": "code",
   "execution_count": null,
   "id": "4f119c9c",
   "metadata": {},
   "outputs": [],
   "source": [
    "df_label['Class'] = [es2en[df_label['Class'][i]] for i in range(len(df_label))]"
   ]
  },
  {
   "cell_type": "code",
   "execution_count": null,
   "id": "14897e27",
   "metadata": {},
   "outputs": [],
   "source": [
    "df_label.to_csv('metadata_labels_en.csv',index=False)"
   ]
  },
  {
   "cell_type": "code",
   "execution_count": null,
   "id": "fc30ccb2",
   "metadata": {},
   "outputs": [],
   "source": [
    "def level_taxonomy(label,ref,level=1):\n",
    "    \n",
    "    if level == 1:\n",
    "        level_i = ref[label]\n",
    "        if type(level_i) is dict:\n",
    "            level_i = list(level_i.values())[0]\n",
    "        return level_i \n",
    "    \n",
    "    elif level == 2:\n",
    "        if type(ref[label]) is dict:\n",
    "            level_i = list(ref[label].keys())[0]\n",
    "        else:\n",
    "            level_i = label\n",
    "        return level_i \n",
    "    \n",
    "    else:\n",
    "        print('level not valid!')"
   ]
  },
  {
   "cell_type": "code",
   "execution_count": null,
   "id": "2c9d8955",
   "metadata": {},
   "outputs": [],
   "source": [
    "df_label['Class_1'] = [level_taxonomy(df_label['Class'][i],taxonomy_inv,level=1) for i in range(len(df_label))]"
   ]
  },
  {
   "cell_type": "code",
   "execution_count": null,
   "id": "1033f625",
   "metadata": {},
   "outputs": [],
   "source": [
    "df_label['Class_2'] = [level_taxonomy(df_label['Class'][i],taxonomy_inv,level=2) for i in range(len(df_label))]"
   ]
  },
  {
   "cell_type": "code",
   "execution_count": null,
   "id": "b2b0e512",
   "metadata": {},
   "outputs": [],
   "source": [
    "df_label_clase_1 = df_label.drop(columns=['Class','Class_2'])\n",
    "df_label_clase_1.to_csv('metadata_labels_class_1.csv', index=False)"
   ]
  },
  {
   "cell_type": "code",
   "execution_count": null,
   "id": "39d3f7d3",
   "metadata": {},
   "outputs": [],
   "source": [
    "df_label_clase_2 = df_label.drop(columns=['Class','Class_1'])\n",
    "df_label_clase_2.to_csv('metadata_labels_class_2.csv', index=False)"
   ]
  }
 ],
 "metadata": {
  "kernelspec": {
   "display_name": "fia",
   "language": "python",
   "name": "fia"
  },
  "language_info": {
   "codemirror_mode": {
    "name": "ipython",
    "version": 3
   },
   "file_extension": ".py",
   "mimetype": "text/x-python",
   "name": "python",
   "nbconvert_exporter": "python",
   "pygments_lexer": "ipython3",
   "version": "3.9.5"
  }
 },
 "nbformat": 4,
 "nbformat_minor": 5
}

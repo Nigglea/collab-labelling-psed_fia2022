{
 "cells": [
  {
   "cell_type": "code",
   "execution_count": 11,
   "id": "a53a6386",
   "metadata": {},
   "outputs": [],
   "source": [
    "import pandas as pd\n",
    "import yaml"
   ]
  },
  {
   "cell_type": "code",
   "execution_count": 12,
   "id": "ffb369c5",
   "metadata": {},
   "outputs": [],
   "source": [
    "with open('taxonomy.yml') as stream: \n",
    "    yaml_dicts = yaml.safe_load(stream)"
   ]
  },
  {
   "cell_type": "code",
   "execution_count": 13,
   "id": "b6a5e349",
   "metadata": {},
   "outputs": [],
   "source": [
    "filename = 'metadata_jak.csv'\n",
    "df_label = pd.read_csv(filename)"
   ]
  },
  {
   "cell_type": "code",
   "execution_count": 15,
   "id": "4d8f65a2",
   "metadata": {},
   "outputs": [],
   "source": [
    "taxonomy = yaml_dicts['taxonomy']\n",
    "taxonomy_inv = yaml_dicts['taxonomy_inv']\n",
    "es2en = yaml_dicts['es2en']"
   ]
  },
  {
   "cell_type": "code",
   "execution_count": 16,
   "id": "4f119c9c",
   "metadata": {},
   "outputs": [],
   "source": [
    "df_label['Clase'] = [es2en[df_label['Clase'][i]] for i in range(len(df_label))]"
   ]
  },
  {
   "cell_type": "code",
   "execution_count": 18,
   "id": "fc30ccb2",
   "metadata": {},
   "outputs": [],
   "source": [
    "def level_taxonomy(label,ref,level=1):\n",
    "    \n",
    "    if level == 1:\n",
    "        level_i = ref[label]\n",
    "        if type(level_i) is dict:\n",
    "            level_i = list(level_i.values())[0]\n",
    "        return level_i \n",
    "    \n",
    "    elif level == 2:\n",
    "        if type(ref[label]) is dict:\n",
    "            level_i = list(ref[label].keys())[0]\n",
    "        else:\n",
    "            level_i = label\n",
    "        return level_i \n",
    "    \n",
    "    else:\n",
    "        print('level not valid!')"
   ]
  },
  {
   "cell_type": "code",
   "execution_count": null,
   "id": "2c9d8955",
   "metadata": {},
   "outputs": [],
   "source": [
    "df_label['Clase 1'] = [level_taxonomy(df_label['Clase'][i],taxonomy_inv,level=1) for i in range(len(df_label))]"
   ]
  },
  {
   "cell_type": "code",
   "execution_count": 20,
   "id": "1033f625",
   "metadata": {},
   "outputs": [],
   "source": [
    "df_label['Clase 2'] = [level_taxonomy(df_label['Clase'][i],taxonomy_inv,level=2) for i in range(len(df_label))]"
   ]
  },
  {
   "cell_type": "code",
   "execution_count": 29,
   "id": "b2b0e512",
   "metadata": {},
   "outputs": [],
   "source": [
    "df_label_clase_1 = df_label.drop(columns=['Clase','Clase 2'])\n",
    "df_label_clase_1.to_csv('metadata_jak_clase_1.csv', index=False)"
   ]
  },
  {
   "cell_type": "code",
   "execution_count": 30,
   "id": "39d3f7d3",
   "metadata": {},
   "outputs": [],
   "source": [
    "df_label_clase_2 = df_label.drop(columns=['Clase','Clase 1'])\n",
    "df_label_clase_2.to_csv('metadata_jak_clase_2.csv', index=False)"
   ]
  }
 ],
 "metadata": {
  "kernelspec": {
   "display_name": "fondef",
   "language": "python",
   "name": "fondef"
  },
  "language_info": {
   "codemirror_mode": {
    "name": "ipython",
    "version": 3
   },
   "file_extension": ".py",
   "mimetype": "text/x-python",
   "name": "python",
   "nbconvert_exporter": "python",
   "pygments_lexer": "ipython3",
   "version": "3.7.4"
  }
 },
 "nbformat": 4,
 "nbformat_minor": 5
}
